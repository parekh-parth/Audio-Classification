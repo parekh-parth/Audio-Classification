{
 "cells": [
  {
   "cell_type": "markdown",
   "metadata": {},
   "source": [
    "### Import libraries for Audio Processing"
   ]
  },
  {
   "cell_type": "code",
   "execution_count": 1,
   "metadata": {},
   "outputs": [
    {
     "name": "stderr",
     "output_type": "stream",
     "text": [
      "Using TensorFlow backend.\n"
     ]
    }
   ],
   "source": [
    "#Python Libararies\n",
    "import pyaudio\n",
    "import os\n",
    "import struct\n",
    "import numpy as np\n",
    "import time\n",
    "from IPython.display import clear_output\n",
    "import threading\n",
    "import wave\n",
    "import librosa\n",
    "import io\n",
    "import soundfile as sfts\n",
    "from datetime import date\n",
    "import datetime\n",
    "from numpy import loadtxt\n",
    "from keras.models import load_model"
   ]
  },
  {
   "cell_type": "markdown",
   "metadata": {},
   "source": [
    "#### Set global variables for synchronization and looping"
   ]
  },
  {
   "cell_type": "code",
   "execution_count": 2,
   "metadata": {},
   "outputs": [],
   "source": [
    "FLAG = True #Flag is set to use reading facility under particular lines of code. It will be used for synchnization.\n",
    "RECORD_SECONDS = 2 #record data for these much seconds\n",
    "CHUNK = 1024 * 2             # samples per frame\n",
    "FORMAT = pyaudio.paInt16     # audio format (bytes per sample?)\n",
    "CHANNELS = 1                 # single channel for microphone\n",
    "RATE = 44100                 # samples per second\n",
    "fileno = 1"
   ]
  },
  {
   "cell_type": "markdown",
   "metadata": {},
   "source": [
    "#### Function for recording"
   ]
  },
  {
   "cell_type": "code",
   "execution_count": 3,
   "metadata": {},
   "outputs": [],
   "source": [
    "#Recoding Function\n",
    "tgt= []\n",
    "def record30():\n",
    "    FLAG = False\n",
    "    print(FLAG)\n",
    "    RECORDFRAMES = []\n",
    "    ts =\"test.wav\"\n",
    "    Wave_write = wave.open(ts,\"wb\")\n",
    "    Wave_write.setframerate(44100)\n",
    "    Wave_write.setnchannels(1)\n",
    "    Wave_write.setsampwidth(2)\n",
    "    for i in range(0, int(RATE / CHUNK * RECORD_SECONDS)):\n",
    "        RECORDEDDATA = stream.read(CHUNK)\n",
    "        Wave_write.writeframesraw(RECORDEDDATA)\n",
    "        #RECORDFRAMES.append(RECORDEDDATA)\n",
    "    #Wave_write.writeframesraw(bytes(RECORDFRAMES))\n",
    "    y, sr = librosa.load(ts, sr = 44100)\n",
    "    chroma_stft = librosa.feature.chroma_stft(y=y, sr=sr)\n",
    "    rmse = librosa.feature.rms(y=y)\n",
    "    spec_cent = librosa.feature.spectral_centroid(y=y, sr=sr)\n",
    "    spec_bw = librosa.feature.spectral_bandwidth(y=y, sr=sr)\n",
    "    rolloff = librosa.feature.spectral_rolloff(y=y, sr=sr)\n",
    "    zcr = librosa.feature.zero_crossing_rate(y)\n",
    "    mfcc = librosa.feature.mfcc(y=y, sr=sr)\n",
    "    \n",
    "    to_append = f'{ts} {np.mean(chroma_stft)} {np.mean(rmse)} {np.mean(spec_cent)} {np.mean(spec_bw)} {np.mean(rolloff)} {np.mean(zcr)}'    \n",
    "    for e in mfcc:\n",
    "        to_append += f' {np.mean(e)}'\n",
    "    #to_append += f' {tgt[1]}'\n",
    "    print(len(to_append.split()[1:]))\n",
    "    # load model\n",
    "    model = load_model('model.h5')\n",
    "    FLAG = True"
   ]
  },
  {
   "cell_type": "markdown",
   "metadata": {},
   "source": [
    "#### Creating Instance of PYAUDIO for recording and processing"
   ]
  },
  {
   "cell_type": "code",
   "execution_count": 4,
   "metadata": {},
   "outputs": [],
   "source": [
    "p = pyaudio.PyAudio()\n",
    "\n",
    "# Generate Stream for Reading Audio\n",
    "stream = p.open(\n",
    "    format=FORMAT,\n",
    "    channels=CHANNELS,\n",
    "    rate=RATE,\n",
    "    input=True,\n",
    "    output=True,\n",
    "    frames_per_buffer=CHUNK\n",
    ")"
   ]
  },
  {
   "cell_type": "code",
   "execution_count": 5,
   "metadata": {},
   "outputs": [
    {
     "name": "stdout",
     "output_type": "stream",
     "text": [
      "test\n",
      "0.0\n",
      "0.0\n",
      "4.771212547196624\n",
      "3.010299956639812\n",
      "4.771212547196624\n",
      "4.771212547196624\n",
      "3.010299956639812\n",
      "4.771212547196624\n",
      "3.010299956639812\n",
      "0.0\n",
      "4.771212547196624\n",
      "4.771212547196624\n",
      "3.010299956639812\n",
      "4.771212547196624\n",
      "0.0\n",
      "0.0\n",
      "0.0\n",
      "0.0\n",
      "3.010299956639812\n",
      "0.0\n",
      "3.010299956639812\n",
      "0.0\n",
      "0.0\n",
      "3.010299956639812\n",
      "0.0\n",
      "0.0\n",
      "0.0\n",
      "3.010299956639812\n",
      "0.0\n",
      "4.771212547196624\n",
      "0.0\n",
      "0.0\n",
      "6.020599913279624\n",
      "3.010299956639812\n",
      "0.0\n",
      "0.0\n",
      "3.010299956639812\n",
      "0.0\n",
      "0.0\n",
      "3.010299956639812\n",
      "4.771212547196624\n",
      "3.010299956639812\n",
      "0.0\n",
      "3.010299956639812\n",
      "0.0\n",
      "3.010299956639812\n",
      "0.0\n",
      "0.0\n",
      "0.0\n",
      "0.0\n",
      "9.030899869919436\n",
      "8.450980400142567\n",
      "4.771212547196624\n",
      "0.0\n",
      "0.0\n",
      "0.0\n",
      "0.0\n",
      "0.0\n",
      "0.0\n",
      "0.0\n",
      "3.010299956639812\n",
      "0.0\n",
      "0.0\n",
      "0.0\n",
      "0.0\n",
      "0.0\n",
      "3.010299956639812\n",
      "0.0\n",
      "3.010299956639812\n",
      "12.30448921378274\n",
      "DB Value --  12.30448921378274 FALG is:--- True\n",
      "False\n",
      "26\n"
     ]
    }
   ],
   "source": [
    "print(\"test\")\n",
    "window = np.blackman(CHUNK)\n",
    "while True:\n",
    "    try:\n",
    "        if FLAG==True:\n",
    "            data = stream.read(CHUNK) #Read Binary\n",
    "        \n",
    "        # unpack the data and times by the hamming window\n",
    "        indata = np.array(wave.struct.unpack(\"%dh\"%(len(data)/2),\\\n",
    "                                             data))*window\n",
    "        # Take the fft and square each value\n",
    "        fftData=abs(np.fft.rfft(indata))**2\n",
    "        # find the maximum\n",
    "        which = fftData[1:].argmax() + 1\n",
    "        logsn = 10*np.log10(which)\n",
    "        print(logsn)\n",
    "        if logsn > 10 and FLAG==True:\n",
    "            print(\"DB Value -- \", logsn, \"FALG is:---\", FLAG)\n",
    "            record30()\n",
    "            break\n",
    "            clear_output(wait=True)\n",
    "    except KeyboardInterrupt:\n",
    "        print(\"press control-c again to quit\")"
   ]
  }
 ],
 "metadata": {
  "kernelspec": {
   "display_name": "Python 3",
   "language": "python",
   "name": "python3"
  },
  "language_info": {
   "codemirror_mode": {
    "name": "ipython",
    "version": 3
   },
   "file_extension": ".py",
   "mimetype": "text/x-python",
   "name": "python",
   "nbconvert_exporter": "python",
   "pygments_lexer": "ipython3",
   "version": "3.6.9"
  }
 },
 "nbformat": 4,
 "nbformat_minor": 4
}
